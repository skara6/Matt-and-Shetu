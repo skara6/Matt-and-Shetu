{
 "cells": [
  {
   "cell_type": "code",
   "execution_count": 39,
   "metadata": {},
   "outputs": [],
   "source": [
    "import pandas as pd\n",
    "from iexfinance.stocks import get_historical_data\n",
    "from sqlalchemy import create_engine\n",
    "from datetime import datetime"
   ]
  },
  {
   "cell_type": "code",
   "execution_count": 4,
   "metadata": {},
   "outputs": [
    {
     "data": {
      "text/plain": [
       "date      619040\n",
       "open      619029\n",
       "high      619032\n",
       "low       619032\n",
       "close     619040\n",
       "volume    619040\n",
       "Name      619040\n",
       "dtype: int64"
      ]
     },
     "execution_count": 4,
     "metadata": {},
     "output_type": "execute_result"
    }
   ],
   "source": [
    "csv_file = \"data/S&P.csv\"\n",
    "SP_df = pd.read_csv(csv_file)\n",
    "SP_df.count()"
   ]
  },
  {
   "cell_type": "code",
   "execution_count": 5,
   "metadata": {},
   "outputs": [
    {
     "data": {
      "text/plain": [
       "ticker       20973889\n",
       "open         20973889\n",
       "close        20973889\n",
       "adj_close    20973889\n",
       "low          20973889\n",
       "high         20973889\n",
       "volume       20973889\n",
       "date         20973889\n",
       "dtype: int64"
      ]
     },
     "execution_count": 5,
     "metadata": {},
     "output_type": "execute_result"
    }
   ],
   "source": [
    "csv_file = \"data/NASDAQ_NYSE.csv\"\n",
    "NN_df = pd.read_csv(csv_file)\n",
    "NN_df.count()"
   ]
  },
  {
   "cell_type": "code",
   "execution_count": 32,
   "metadata": {},
   "outputs": [
    {
     "name": "stdout",
     "output_type": "stream",
     "text": [
      "nyse+nasdaq first date: 2013-02-11 \n",
      "s&p first date: 2013-02-11 \n",
      "\n",
      "nyse+nasdaq last date: 2018-02-06 \n",
      "s&p last date: 2018-02-06\n"
     ]
    }
   ],
   "source": [
    "print(f'nyse+nasdaq first date: {NN_df.date.min()} \\ns&p first date: {SP_df.date.min()} \\n\\nnyse+nasdaq last date: {NN_df.date.max()} \\ns&p last date: {SP_df.date.max()}')"
   ]
  },
  {
   "cell_type": "code",
   "execution_count": 10,
   "metadata": {},
   "outputs": [
    {
     "name": "stdout",
     "output_type": "stream",
     "text": [
      "2013-02-08 2018-02-07\n"
     ]
    }
   ],
   "source": [
    "if SP_df.date.max() > NN_df.date.max():\n",
    "    endDate = NN_df.date.max()\n",
    "else:\n",
    "    endDate = SP_df.date.max() \n",
    "    \n",
    "if SP_df.date.min() > NN_df.date.min():\n",
    "    startDate = SP_df.date.min()\n",
    "else:\n",
    "    startDate = NN_df.date.min()  "
   ]
  },
  {
   "cell_type": "code",
   "execution_count": 11,
   "metadata": {},
   "outputs": [],
   "source": [
    "NN_df = NN_df[NN_df.date > startDate]\n",
    "SP_df = SP_df[SP_df.date > startDate]\n",
    "\n",
    "NN_df = NN_df[NN_df.date < endDate]\n",
    "SP_df = SP_df[SP_df.date < endDate]"
   ]
  },
  {
   "cell_type": "code",
   "execution_count": 25,
   "metadata": {},
   "outputs": [
    {
     "name": "stdout",
     "output_type": "stream",
     "text": [
      "nyse+nasdaq first date: 2013-02-11 \n",
      "s&p first date: 2013-02-11 \n",
      "\n",
      "nyse+nasdaq last date: 2018-02-06 \n",
      "s&p last date: 2018-02-06\n"
     ]
    }
   ],
   "source": [
    "print(f'nyse+nasdaq first date: {NN_df.date.min()} \\ns&p first date: {SP_df.date.min()} \\n\\nnyse+nasdaq last date: {NN_df.date.max()} \\ns&p last date: {SP_df.date.max()}')"
   ]
  },
  {
   "cell_type": "code",
   "execution_count": 107,
   "metadata": {},
   "outputs": [],
   "source": [
    "#renaming columns to symbol, dropping adj_close column\n",
    "NN_df = NN_df.drop(columns=['adj_close'])\n",
    "NN_df = NN_df.rename(columns={'ticker':'symbol'})\n",
    "SP_df = SP_df.rename(columns={'Name':'symbol'})"
   ]
  },
  {
   "cell_type": "code",
   "execution_count": 63,
   "metadata": {},
   "outputs": [],
   "source": [
    "csv_file = \"data/ETFList.csv\"\n",
    "ETF_data = pd.read_csv(csv_file)\n",
    "ETF_symbols = ETF_data['Symbol']\n",
    "\n",
    "temp_data = pd.DataFrame()\n",
    "ETF_df = pd.DataFrame()\n",
    "\n",
    "start = datetime(2014, 1, 1)\n",
    "end = datetime(2019, 1, 1)\n",
    "\n",
    "for symbol in ETF_symbols:\n",
    "    temp_data = get_historical_data(symbol, start, end, output_format = \"pandas\")\n",
    "    temp_data['symbol'] = symbol\n",
    "    etf_data = total_data.append(temp_data)"
   ]
  },
  {
   "cell_type": "code",
   "execution_count": 70,
   "metadata": {},
   "outputs": [],
   "source": [
    "from sqlalchemy import create_engine\n",
    "from sqlalchemy import Column, Integer, String, Float\n",
    "\n",
    "from sqlalchemy.ext.declarative import declarative_base\n",
    "Base = declarative_base()"
   ]
  },
  {
   "cell_type": "code",
   "execution_count": 83,
   "metadata": {},
   "outputs": [],
   "source": [
    "engine = create_engine('mysql://root:Monday4792!@@localhost:3306/etl')\n",
    "Base.metadata.create_all(engine)"
   ]
  },
  {
   "cell_type": "code",
   "execution_count": 88,
   "metadata": {},
   "outputs": [],
   "source": [
    "etf_data.to_sql(con=engine, name='ETF', if_exists = 'replace')"
   ]
  },
  {
   "cell_type": "code",
   "execution_count": null,
   "metadata": {},
   "outputs": [],
   "source": [
    "stock_data = NN_df.append(SP_df)\n",
    "stock_data.to_sql(con=engine, name='Stocks', if_exists = 'replace')"
   ]
  },
  {
   "cell_type": "code",
   "execution_count": 111,
   "metadata": {},
   "outputs": [
    {
     "name": "stdout",
     "output_type": "stream",
     "text": [
      "close     6421909\n",
      "date      6421909\n",
      "high      6421901\n",
      "low       6421901\n",
      "open      6421898\n",
      "symbol    6421909\n",
      "volume    6421909\n",
      "dtype: int64\n"
     ]
    }
   ],
   "source": []
  },
  {
   "cell_type": "code",
   "execution_count": 112,
   "metadata": {},
   "outputs": [
    {
     "data": {
      "text/plain": [
       "close     6421909\n",
       "date      6421909\n",
       "high      6421901\n",
       "low       6421901\n",
       "open      6421898\n",
       "symbol    6421909\n",
       "volume    6421909\n",
       "dtype: int64"
      ]
     },
     "execution_count": 112,
     "metadata": {},
     "output_type": "execute_result"
    }
   ],
   "source": []
  },
  {
   "cell_type": "code",
   "execution_count": 98,
   "metadata": {},
   "outputs": [
    {
     "data": {
      "text/plain": [
       "Index(['ticker', 'open', 'close', 'adj_close', 'low', 'high', 'volume',\n",
       "       'date'],\n",
       "      dtype='object')"
      ]
     },
     "execution_count": 98,
     "metadata": {},
     "output_type": "execute_result"
    }
   ],
   "source": [
    "NN_df.columns"
   ]
  },
  {
   "cell_type": "code",
   "execution_count": null,
   "metadata": {},
   "outputs": [],
   "source": []
  }
 ],
 "metadata": {
  "kernelspec": {
   "display_name": "Python 3",
   "language": "python",
   "name": "python3"
  },
  "language_info": {
   "codemirror_mode": {
    "name": "ipython",
    "version": 3
   },
   "file_extension": ".py",
   "mimetype": "text/x-python",
   "name": "python",
   "nbconvert_exporter": "python",
   "pygments_lexer": "ipython3",
   "version": "3.7.1"
  }
 },
 "nbformat": 4,
 "nbformat_minor": 2
}
